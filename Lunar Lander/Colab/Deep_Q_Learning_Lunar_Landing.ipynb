{
  "cells": [
      {
      "cell_type": "markdown",
      "metadata": {
        "id": "view-in-github",
        "colab_type": "text"
      },
      "source": [
        "<a href=\"https://colab.research.google.com/github/EBayego/del/blob/main/Deep_Q_Learning_Lunar_Landing.ipynb\" target=\"_parent\"><img src=\"https://colab.research.google.com/assets/colab-badge.svg\" alt=\"Open In Colab\"/></a>"
      ]
    },
    {
      "cell_type": "markdown",
      "metadata": {
        "id": "LbZcI9ZXHl3a"
      },
      "source": [
        "# Deep Q-Learning for Lunar Landing"
      ]
    },
    {
      "cell_type": "markdown",
      "source": [
        "**This project is an implementation of an AI for Lunar Landing, a predefined environment from Gymnasium.**\n",
        "\n",
        "The actions, observation space and rewards obtained, are specified [on their website](https://gymnasium.farama.org/environments/box2d/lunar_lander/)."
      ],
      "metadata": {
        "id": "17tGMHwKlSUn"
      }
    },
    {
      "cell_type": "markdown",
      "metadata": {
        "id": "E8yPRjteXgPb"
      },
      "source": [
        "## Part 0 - Installing the required packages and importing the libraries"
      ]
    },
    {
      "cell_type": "code",
      "execution_count": null,
      "metadata": {
        "id": "dbnq3XpoKa_7"
      },
      "outputs": [],
      "source": [
        "!pip install gymnasium\n",
        "!pip install \"gymnasium[atari, accept-rom-license]\"\n",
        "!apt-get install -y swig\n",
        "!pip install gymnasium[box2d]"
      ]
    },
    {
      "cell_type": "markdown",
      "metadata": {
        "id": "brqiMN3UW9T9"
      },
      "source": [
        "### Importing the libraries"
      ]
    },
    {
      "cell_type": "code",
      "execution_count": 13,
      "metadata": {
        "id": "mZaKXP_aMl9O"
      },
      "outputs": [],
      "source": [
        "import os\n",
        "import random\n",
        "import numpy as np\n",
        "import torch\n",
        "import torch.nn as nn\n",
        "import torch.optim as optim\n",
        "import torch.nn.functional as F\n",
        "import torch.autograd as autograd\n",
        "from torch.autograd import Variable\n",
        "from collections import deque, namedtuple"
      ]
    },
    {
      "cell_type": "markdown",
      "metadata": {
        "id": "EzlDKXvkXzGI"
      },
      "source": [
        "## Part 1 - Building the AI"
      ]
    },
    {
      "cell_type": "markdown",
      "metadata": {
        "id": "UtG6Zc83YYy3"
      },
      "source": [
        "### Creating the architecture of the Neural Network"
      ]
    },
    {
      "cell_type": "code",
      "source": [
        "class Network(nn.Module):\n",
        "  def __init__(self, state_size, action_size, seed = 42):\n",
        "      super(Network, self).__init__()\n",
        "      self.seed = torch.manual_seed(seed)\n",
        "      self.fc1 = nn.Linear(state_size, 64) #number of neurons is an important parameter to experiment with, in every layer\n",
        "      self.fc2 = nn.Linear(64, 64) #the number of layers, is also an important parameter with which to experiment\n",
        "      self.fc3 = nn.Linear(64, action_size)\n",
        "\n",
        "  def forward(self, state):\n",
        "      x = self.fc1(state)\n",
        "      x = F.relu(x) #activation function: activates neurons if positive value, deactivate the ones with negative value\n",
        "      x = self.fc2(x)\n",
        "      x = F.relu(x)\n",
        "      return self.fc3(x)\n"
      ],
      "metadata": {
        "id": "MJWJndC-26JW"
      },
      "execution_count": 3,
      "outputs": []
    },
    {
      "cell_type": "markdown",
      "metadata": {
        "id": "UxVrBnFWZKb1"
      },
      "source": [
        "## Part 2 - Training the AI"
      ]
    },
    {
      "cell_type": "markdown",
      "metadata": {
        "id": "T364fz9qZb2j"
      },
      "source": [
        "### Setting up the environment"
      ]
    },
    {
      "cell_type": "code",
      "source": [
        "import gymnasium as gym\n",
        "env = gym.make('LunarLander-v2')\n",
        "state_shape = env.observation_space.shape #dimensions of the observation space (ex. two-dimensional = (4, ), three-dimensional = (3,3,3))\n",
        "state_size = env.observation_space.shape[0] #total size of the observation space (ex. two-dimensional = 4, three-dimensional = 27)\n",
        "num_actions = env.action_space.n #number of possible actions\n",
        "print('State shape: ', state_shape)\n",
        "print('State size: ', state_size)\n",
        "print('Number of actions: ', num_actions)"
      ],
      "metadata": {
        "colab": {
          "base_uri": "https://localhost:8080/"
        },
        "id": "p76TeXSPF1Jm",
        "outputId": "b0af2799-ca38-4e66-9064-55333ea9b820"
      },
      "execution_count": 4,
      "outputs": [
        {
          "output_type": "stream",
          "name": "stdout",
          "text": [
            "State shape:  (8,)\n",
            "State size:  8\n",
            "Number of actions:  4\n"
          ]
        }
      ]
    },
    {
      "cell_type": "markdown",
      "metadata": {
        "id": "c_dZmOIvZgj-"
      },
      "source": [
        "### Initializing the hyperparameters"
      ]
    },
    {
      "cell_type": "code",
      "source": [
        "learning_rate = 5e-4 #inicial weight\n",
        "minibatch_size = 100 #number of observations used in one step of the training to update the model parameters\n",
        "discount_factor = 0.99 #number that gives value to the rewards obtained after performing certain actions: a low number ~0 focuses on immediate rewards, a high number ~1 focuses on long-term rewards.\n",
        "replay_buffer_size = 100000 #size of the memory to store the experiences\n",
        "tau = 0.001 #is a value used to smooth the updates of the weights of a target network with the weights of another target network to avoid abrupt changes.\n"
      ],
      "metadata": {
        "id": "9eMGzQiNH4lf"
      },
      "execution_count": 5,
      "outputs": []
    },
    {
      "cell_type": "markdown",
      "metadata": {
        "id": "8hD_Vs-bYnip"
      },
      "source": [
        "### Implementing Experience Replay"
      ]
    },
    {
      "cell_type": "code",
      "source": [
        "class ReplayMemory(object):\n",
        "  def __init__(self, capacity):\n",
        "    self.device = torch.device(\"cuda:0\" if torch.cuda.is_available() else \"cpu\") #to be able to execute the code outside Google colab\n",
        "    self.capacity = capacity\n",
        "    self.memory = [] #list that store the experiences\n",
        "\n",
        "  def push(self, event): #save the event on memory\n",
        "    self.memory.append(event)\n",
        "    if len(self.memory) > self.capacity:\n",
        "      del self.memory[0]\n",
        "\n",
        "  def sample(self, batch_size): #select a random batch of events from the memory\n",
        "    experiences = random.sample(self.memory, k = batch_size)\n",
        "    states = torch.from_numpy(np.vstack([e[0] for e in experiences if e is not None])).float().to(self.device) #takes the state of all experience tuples, and converts them into tensors\n",
        "    actions = torch.from_numpy(np.vstack([e[1] for e in experiences if e is not None])).long().to(self.device)\n",
        "    rewards = torch.from_numpy(np.vstack([e[2] for e in experiences if e is not None])).float().to(self.device)\n",
        "    next_states = torch.from_numpy(np.vstack([e[3] for e in experiences if e is not None])).float().to(self.device)\n",
        "    dones = torch.from_numpy(np.vstack([e[4] for e in experiences if e is not None])).to(dtype=torch.uint8).float().to(self.device)\n",
        "    return states, next_states, actions, rewards, dones\n"
      ],
      "metadata": {
        "id": "cuBnrK2w-q-I"
      },
      "execution_count": 6,
      "outputs": []
    },
    {
      "cell_type": "markdown",
      "metadata": {
        "id": "JmEkbFbUY6Jt"
      },
      "source": [
        "### Implementing the DQN class"
      ]
    },
    {
      "cell_type": "code",
      "source": [
        "class Agent():\n",
        "  def __init__(self, state_size, action_size):\n",
        "    self.device = torch.device(\"cuda:0\" if torch.cuda.is_available() else \"cpu\")\n",
        "    self.state_size = state_size\n",
        "    self.action_size = action_size\n",
        "    self.local_qnetwork = Network(state_size, action_size).to(self.device) #used to select actions\n",
        "    self.target_qnetwork = Network(state_size, action_size).to(self.device) #used to calculate the Q values of future actions, that will be used in the local network\n",
        "    self.optimizer = optim.Adam(self.local_qnetwork.parameters(), lr = learning_rate)\n",
        "    self.memory = ReplayMemory(replay_buffer_size)\n",
        "    self.t_step = 0\n",
        "\n",
        "  def step(self, state, action, reward, next_state, done):\n",
        "    self.memory.push((state, action, reward, next_state, done))\n",
        "    self.t_step = (self.t_step + 1) % 4 #learn every 4 steps\n",
        "    if self.t_step == 0:\n",
        "      if len(self.memory.memory) > minibatch_size: #learn from all the batch of experiences\n",
        "        experiences = self.memory.sample(100)\n",
        "        self.learn(experiences, discount_factor)\n",
        "\n",
        "  def act(self, state, epsilon = 0.): #epsilon is the greedy factor, the probability of performing a random action instead of the optimal one\n",
        "    state = torch.from_numpy(state).float().unsqueeze(0).to(self.device) #new variable to know which batch each state belongs to\n",
        "    self.local_qnetwork.eval()\n",
        "    with torch.no_grad():\n",
        "      action_values = self.local_qnetwork(state) #Q values of every possible action nowQue\n",
        "    self.local_qnetwork.train()\n",
        "    if random.random() > epsilon:\n",
        "      return np.argmax(action_values.cpu().data.numpy())\n",
        "    else:\n",
        "      return random.choice(np.arange(self.action_size))\n",
        "\n",
        "  def learn(self, experiences, discount_factor):\n",
        "    states, next_states, actions, rewards, dones = experiences\n",
        "    next_qtargets = self.target_qnetwork(next_states).detach().max(1)[0].unsqueeze(1)\n",
        "    q_targets = rewards + (discount_factor * next_qtargets * (1 - dones))\n",
        "    q_expected = self.local_qnetwork(states).gather(1, actions)\n",
        "    loss = F.mse_loss(q_targets, q_expected)\n",
        "    self.optimizer.zero_grad()\n",
        "    loss.backward()\n",
        "    self.optimizer.step()\n",
        "    self.soft_update(self.local_qnetwork, self.target_qnetwork, tau)\n",
        "\n",
        "  def soft_update(self, local_model, target_model, tau):\n",
        "    for target_param, local_param in zip(target_model.parameters(), local_model.parameters()):\n",
        "      target_param.data.copy_(tau * local_param.data + (1.0 - tau) * target_param.data) #updates the target network parameters with the local network parameters"
      ],
      "metadata": {
        "id": "mz4Io5WDOPCG"
      },
      "execution_count": 7,
      "outputs": []
    },
    {
      "cell_type": "markdown",
      "metadata": {
        "id": "o1tZElccZmf6"
      },
      "source": [
        "### Initializing the DQN agent"
      ]
    },
    {
      "cell_type": "code",
      "source": [
        "agent = Agent(state_size, num_actions)"
      ],
      "metadata": {
        "id": "vT1KhFT3d8Ui"
      },
      "execution_count": 8,
      "outputs": []
    },
    {
      "cell_type": "markdown",
      "metadata": {
        "id": "E8v0PtUfaVQp"
      },
      "source": [
        "### Training the DQN agent"
      ]
    },
    {
      "cell_type": "code",
      "source": [
        "num_episodes = 2000\n",
        "max_episode_timesteps = 1000\n",
        "initial_epsilon = 1.0\n",
        "final_epsilon = 0.01\n",
        "epsilon_decay = 0.995\n",
        "epsilon = initial_epsilon\n",
        "scores = deque(maxlen = 100)\n",
        "\n",
        "for episode in range(1, num_episodes + 1):\n",
        "  state, _ = env.reset()\n",
        "  score = 0\n",
        "  for t in range(max_episode_timesteps):\n",
        "    action = agent.act(state, epsilon)\n",
        "    next_state, reward, done, _, _ = env.step(action)\n",
        "    agent.step(state, action, reward, next_state, done)\n",
        "    state = next_state\n",
        "    score += reward\n",
        "    if done:\n",
        "      break\n",
        "  scores.append(score)\n",
        "  epsilon = max(final_epsilon, epsilon_decay * epsilon)\n",
        "  print('\\rEpisode {}\\tAverage Score: {:.2f}'.format(episode, np.mean(scores)), end = \"\")\n",
        "  if episode % 100 == 0:\n",
        "    print('\\rEpisode {}\\tAverage Score: {:.2f}'.format(episode, np.mean(scores)))\n",
        "  if np.mean(scores) >= 200.0:\n",
        "    print('\\nEnvironment solved in {:d} episodes!\\tAverage Score: {:.2f}'.format(episode - 100, np.mean(scores)), end = \"\")\n",
        "    torch.save(agent.local_qnetwork.state_dict(), 'checkpoint.pth')\n",
        "    break"
      ],
      "metadata": {
        "colab": {
          "base_uri": "https://localhost:8080/"
        },
        "id": "KnwLIGJ-fUdK",
        "outputId": "55eb5e82-b509-45e4-99fa-86787a2978e6"
      },
      "execution_count": 10,
      "outputs": [
        {
          "output_type": "stream",
          "name": "stdout",
          "text": [
            "Episode 100\tAverage Score: -120.30\n",
            "Episode 200\tAverage Score: -42.76\n",
            "Episode 300\tAverage Score: 33.45\n",
            "Episode 400\tAverage Score: 182.45\n",
            "Episode 411\tAverage Score: 200.50\n",
            "Environment solved in 311 episodes!\tAverage Score: 200.50"
          ]
        }
      ]
    },
    {
      "cell_type": "markdown",
      "metadata": {
        "id": "O8CNwdOTcCoP"
      },
      "source": [
        "## Part 3 - Visualizing the results"
      ]
    },
    {
      "cell_type": "code",
      "execution_count": 11,
      "metadata": {
        "id": "cb9nVvU2Okhk",
        "colab": {
          "base_uri": "https://localhost:8080/",
          "height": 459
        },
        "outputId": "0241ee41-ab59-4ff6-f09d-803ac178790b"
      },
      "outputs": [
        {
          "output_type": "stream",
          "name": "stderr",
          "text": [
            "WARNING:imageio_ffmpeg:IMAGEIO FFMPEG_WRITER WARNING: input image is not divisible by macro_block_size=16, resizing from (600, 400) to (608, 400) to ensure video compatibility with most codecs and players. To prevent resizing, make your input image divisible by the macro_block_size or set the macro_block_size to 1 (risking incompatibility).\n"
          ]
        },
        {
          "output_type": "display_data",
          "data": {
            "text/plain": [
              "<IPython.core.display.HTML object>"
            ],
            "text/html": [
              "<video alt=\"test\" autoplay\n",
              "                loop controls style=\"height: 400px;\">\n",
              "                <source src=\"data:video/mp4;base64,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\" type=\"video/mp4\" />\n",
              "             </video>"
            ]
          },
          "metadata": {}
        }
      ],
      "source": [
        "import glob\n",
        "import io\n",
        "import base64\n",
        "import imageio\n",
        "from IPython.display import HTML, display\n",
        "from gym.wrappers.monitoring.video_recorder import VideoRecorder\n",
        "\n",
        "def show_video_of_model(agent, env_name):\n",
        "    env = gym.make(env_name, render_mode='rgb_array')\n",
        "    state, _ = env.reset()\n",
        "    done = False\n",
        "    frames = []\n",
        "    while not done:\n",
        "        frame = env.render()\n",
        "        frames.append(frame)\n",
        "        action = agent.act(state)\n",
        "        state, reward, done, _, _ = env.step(action.item())\n",
        "    env.close()\n",
        "    imageio.mimsave('video.mp4', frames, fps=30)\n",
        "\n",
        "show_video_of_model(agent, 'LunarLander-v2')\n",
        "\n",
        "def show_video():\n",
        "    mp4list = glob.glob('*.mp4')\n",
        "    if len(mp4list) > 0:\n",
        "        mp4 = mp4list[0]\n",
        "        video = io.open(mp4, 'r+b').read()\n",
        "        encoded = base64.b64encode(video)\n",
        "        display(HTML(data='''<video alt=\"test\" autoplay\n",
        "                loop controls style=\"height: 400px;\">\n",
        "                <source src=\"data:video/mp4;base64,{0}\" type=\"video/mp4\" />\n",
        "             </video>'''.format(encoded.decode('ascii'))))\n",
        "    else:\n",
        "        print(\"Could not find video\")\n",
        "\n",
        "show_video()"
      ]
    }
  ],
  "metadata": {
    "colab": {
      "provenance": []
    },
    "kernelspec": {
      "display_name": "Python 3",
      "name": "python3"
    },
    "language_info": {
      "name": "python"
    }
  },
  "nbformat": 4,
  "nbformat_minor": 0
}